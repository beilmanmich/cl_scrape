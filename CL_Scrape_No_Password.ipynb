{
 "cells": [
  {
   "cell_type": "markdown",
   "metadata": {},
   "source": [
    "Craigslist Apartment Scrape | August 2017 | Author: https://github.com/beilmanmich"
   ]
  },
  {
   "cell_type": "code",
   "execution_count": 1,
   "metadata": {
    "collapsed": false
   },
   "outputs": [
    {
     "name": "stdout",
     "output_type": "stream",
     "text": [
      "2.7.13 |Anaconda custom (x86_64)| (default, Dec 20 2016, 23:05:08) \n",
      "[GCC 4.2.1 Compatible Apple LLVM 6.0 (clang-600.0.57)]\n"
     ]
    }
   ],
   "source": [
    "import sys\n",
    "print(sys.version)"
   ]
  },
  {
   "cell_type": "markdown",
   "metadata": {},
   "source": [
    "# Craigslist Apartment Listing Scrape\n",
    "I'm moving! As a result, I wanted to explore how I could automate regular searches of Craigslist, a popular user run website that lists apartments, sublets and house share options based on geographic pages.\n",
    "\n",
    "In this notebook, I'll show you how to make a simple query on Craigslist using some nifty python modules. You can take advantage of all the structure data that exists on webpages to collect interesting datasets."
   ]
  },
  {
   "cell_type": "code",
   "execution_count": 2,
   "metadata": {
    "collapsed": false
   },
   "outputs": [
    {
     "name": "stdout",
     "output_type": "stream",
     "text": [
      "Populating the interactive namespace from numpy and matplotlib\n"
     ]
    }
   ],
   "source": [
    "import pandas as pd\n",
    "%pylab inline"
   ]
  },
  {
   "cell_type": "markdown",
   "metadata": {},
   "source": [
    "First we need to figure out how to submit a query to Craigslist. As with many websites, one way you can do this is simply by constructing the proper URL and sending it to Craigslist. Here's a sample URL that is returned after manually typing in a search to Craigslist:\n",
    "\n",
    "https://denver.craigslist.org/search/apa?hasPic=1&max_price=1200&availabilityMode=0&housing_type=1&housing_type=2&housing_type=6"
   ]
  },
  {
   "cell_type": "markdown",
   "metadata": {},
   "source": [
    "As we can see, the above query string lists several search criteria \"=\", you can play around with the search options on the left navbar to decipher a pattern for the URL. Please note, this tutorial will only search listings with images (`hasPic=1`), this serves as a good proxy for listing quality (CL is prone to scams!).\n",
    "\n",
    "![CL Params](./png/query_params.png)"
   ]
  },
  {
   "cell_type": "markdown",
   "metadata": {},
   "source": [
    "So, as we can see, our search criteria is reflected in the URL:\n",
    "\n",
    "Base URL (CL apartments in Denver) - `https://denver.craigslist.org/search/apa?`\n",
    "\n",
    "* hasPic=1 (search only listings with an image)\n",
    "* &max_price=1200 (to a max price of $1200)\n",
    "* &availabilityMode=0 (default)\n",
    "* &housing_type=1 (apartment)\n",
    "* &housing_type=2 (condo)\n",
    "* &housing_type=6 (house)"
   ]
  },
  {
   "cell_type": "markdown",
   "metadata": {},
   "source": [
    "### Let's grab a single posting"
   ]
  },
  {
   "cell_type": "markdown",
   "metadata": {},
   "source": [
    "So, we'll use this knowledge to send some custom URLs to Craigslist. We'll do this using the requests python module, which is really useful for querying websites."
   ]
  },
  {
   "cell_type": "code",
   "execution_count": 3,
   "metadata": {
    "collapsed": true
   },
   "outputs": [],
   "source": [
    "import requests"
   ]
  },
  {
   "cell_type": "markdown",
   "metadata": {},
   "source": [
    "In internet lingo, we're posting a *get* requests to the website, which simply says that we'd like to get some information from the Craigslist website. With requests, we can easily create a dictionary that specifies parameters in the URL:"
   ]
  },
  {
   "cell_type": "code",
   "execution_count": 4,
   "metadata": {
    "collapsed": true
   },
   "outputs": [],
   "source": [
    "url_base = 'http://denver.craigslist.org/search/apa'\n",
    "# params = dict(bedrooms=1, housing_type=1, housing_type=2, housing_type=6)\n",
    "\n",
    "#To pass multiple params create a custome Dict (http://docs.python-requests.org/en/master/user/quickstart/#passing-parameters-in-urls)\n",
    "params = {'hasPic':'1','bedrooms': '1', 'housing_type': ['1','2','6']}\n",
    "# params = dict(bedrooms=1, is_furnished=1)\n",
    "\n",
    "rsp = requests.get(url_base, params=params)"
   ]
  },
  {
   "cell_type": "code",
   "execution_count": 5,
   "metadata": {
    "collapsed": false
   },
   "outputs": [
    {
     "name": "stdout",
     "output_type": "stream",
     "text": [
      "https://denver.craigslist.org/search/apa?bedrooms=1&housing_type=1&housing_type=2&housing_type=6&hasPic=1\n"
     ]
    }
   ],
   "source": [
    "# Note that requests automatically created the right URL:\n",
    "print(rsp.url)"
   ]
  },
  {
   "cell_type": "markdown",
   "metadata": {},
   "source": [
    "Click the above link, make sure results appear, it should look the same as the screen shot!"
   ]
  },
  {
   "cell_type": "code",
   "execution_count": 7,
   "metadata": {
    "collapsed": false
   },
   "outputs": [
    {
     "name": "stdout",
     "output_type": "stream",
     "text": [
      "﻿<!DOCTYPE html>\n",
      "\n",
      "<html class=\"no-js\"><head>\n",
      "    <title>denver apts/housing for rent  - craigslist</title>\n",
      "\n",
      "    <meta name=\"description\" content=\"denver apts/housing for rent  - craigslist\">\n",
      "    <meta http-equiv=\"X-UA-Compatible\" content=\"IE=Edge\"/>\n",
      "    <link rel=\"canonical\" href=\"https://denver.craigslist.org/search/apa\">\n",
      "    <link rel=\"alternate\" type=\"application/rss+xml\" href=\"https://denver.craigslist.org/search/apa?format=rss&amp;hasPic=1&amp;housing_type=1&amp;housing_type=2&amp;housing_t\n"
     ]
    }
   ],
   "source": [
    "# We can access the content of the response that Craigslist sent back here:\n",
    "print(rsp.text[:500])"
   ]
  },
  {
   "cell_type": "markdown",
   "metadata": {},
   "source": [
    "**Wow, that's a lot of code.** Remember, websites serve HTML documents, and usually your browser will automatically render this into a nice webpage for you. Since we're doing this with python, we get back the raw text. This is really useful, but how can we possibly parse it all? For this, we'll turn to another great package, BeautifulSoup:"
   ]
  },
  {
   "cell_type": "code",
   "execution_count": 8,
   "metadata": {
    "collapsed": false
   },
   "outputs": [
    {
     "name": "stdout",
     "output_type": "stream",
     "text": [
      "﻿\n",
      "<!DOCTYPE html>\n",
      "<html class=\"no-js\">\n",
      " <head>\n",
      "  <title>\n",
      "   denver apts/housing for rent  - craigslist\n",
      "  </title>\n",
      "  <meta content=\"denver apts/housing for rent  - craigslist\" name=\"description\">\n",
      "   <meta content=\"IE=Edge\" http-equiv=\"X-UA-Compatible\"/>\n",
      "   <link href=\"https://denver.craigslist.org/search/apa\" rel=\"canonical\">\n",
      "    <link href=\"https://denver.craigslist.org/search/apa?format=rss&amp;hasPic=1&amp;housing_type=1&amp;housing_type=2&amp;housing_type=6&amp;min_bedrooms=1\" rel=\"alternate\" title=\"RSS feed for craigslist | denver apts/housing for rent  - craigslist \" type=\"application/rss+xml\">\n",
      "     <link href=\"https://denver.craigslist.org/search/apa?s=120&amp;hasPic=1&amp;housing_type=1&amp;housing_type=2&amp;housing_type=6&amp;min_bedrooms=1\" rel=\"next\">\n",
      "      <meta content=\"width=device-width,initial-scale=1\" name=\"viewport\">\n",
      "       <link href=\"//www.craigslist.org/styles/cl.css?v=d76fe4376346bd1b2503fb10181051a7\" media=\"all\" rel=\"stylesheet\" type=\"text/css\">\n",
      "        <link hre\n"
     ]
    }
   ],
   "source": [
    "from bs4 import BeautifulSoup as bs4\n",
    "\n",
    "# BS4 can quickly parse our text, make sure to tell it that you're giving html\n",
    "html = bs4(rsp.text, 'html.parser')\n",
    "\n",
    "# BS makes it easy to look through a document\n",
    "print(html.prettify()[:1000])"
   ]
  },
  {
   "cell_type": "markdown",
   "metadata": {},
   "source": [
    "**Beautiful soup** lets us quickly search through an HTML document. We can pull out whatever information we want.\n",
    "\n",
    "Scanning through this text, we see a common structure repeated `<p class=\"result-info\">`. This seems to be the container that has information for a single apartment.\n",
    "\n",
    "In BeautifulSoup, we can quickly get all instances of this container:"
   ]
  },
  {
   "cell_type": "markdown",
   "metadata": {},
   "source": [
    "Another way to inspect the website elements we want is to use Chrome's handy [DevTools](http://anti-code.com/devtools-cheatsheet/), which allows use to place our cursor over an element and see the corresponding HTML. As we can see in the below screenshot it becomes clear the class structure of CL's website, `p class=\"result-info\"` indicates each resulting link (apartment listing), we can also further drill down to see we can grab other information by class, such as prize, size, BRs, etc.\n",
    "\n",
    "For a better overview of this, please see [Greg Reda](http://www.gregreda.com/2013/03/03/web-scraping-101-with-python/).\n",
    "\n",
    "![CL Class](./png/cl_class.png)"
   ]
  },
  {
   "cell_type": "code",
   "execution_count": 9,
   "metadata": {
    "collapsed": false
   },
   "outputs": [
    {
     "name": "stdout",
     "output_type": "stream",
     "text": [
      "120\n"
     ]
    }
   ],
   "source": [
    "# find_all will pull entries that fit your search criteria.\n",
    "# Note that we have to use brackets to define the `attrs` dictionary\n",
    "# Because \"class\" is a special word in python, so we need to give a string.\n",
    "\n",
    "# apts = html.find_all('p', attrs={'class': 'result-info'})\n",
    "\n",
    "apts= html.find_all('p', class_='result-info')\n",
    "\n",
    "print(len(apts))"
   ]
  },
  {
   "cell_type": "markdown",
   "metadata": {},
   "source": [
    "Great, we've got the 120 results on page one of the CL search. Now let's take a look inside the values of a single apartment listing..."
   ]
  },
  {
   "cell_type": "code",
   "execution_count": 10,
   "metadata": {
    "collapsed": false
   },
   "outputs": [
    {
     "name": "stdout",
     "output_type": "stream",
     "text": [
      "<p class=\"result-info\">\n",
      " <span class=\"icon icon-star\" role=\"button\">\n",
      "  <span class=\"screen-reader-text\">\n",
      "   favorite this post\n",
      "  </span>\n",
      " </span>\n",
      " <time class=\"result-date\" datetime=\"2017-08-09 07:40\" title=\"Wed 09 Aug 07:40:14 AM\">\n",
      "  Aug  9\n",
      " </time>\n",
      " <a class=\"result-title hdrlnk\" data-id=\"6214332910\" href=\"/apa/d/4-br-3-bath-arvada/6214332910.html\">\n",
      "  4 Br, 3 Bath Arvada\n",
      " </a>\n",
      " <span class=\"result-meta\">\n",
      "  <span class=\"result-price\">\n",
      "   $2900\n",
      "  </span>\n",
      "  <span class=\"housing\">\n",
      "   4br -\n",
      "                    4235ft\n",
      "   <sup>\n",
      "    2\n",
      "   </sup>\n",
      "   -\n",
      "  </span>\n",
      "  <span class=\"result-tags\">\n",
      "   pic\n",
      "   <span class=\"maptag\" data-pid=\"6214332910\">\n",
      "    map\n",
      "   </span>\n",
      "  </span>\n",
      "  <span class=\"banish icon icon-trash\" role=\"button\">\n",
      "   <span class=\"screen-reader-text\">\n",
      "    hide this posting\n",
      "   </span>\n",
      "  </span>\n",
      "  <span aria-hidden=\"true\" class=\"unbanish icon icon-trash red\" role=\"button\">\n",
      "  </span>\n",
      "  <a class=\"restore-link\" href=\"#\">\n",
      "   <span class=\"restore-narrow-text\">\n",
      "    restore\n",
      "   </span>\n",
      "   <span class=\"restore-wide-text\">\n",
      "    restore this posting\n",
      "   </span>\n",
      "  </a>\n",
      " </span>\n",
      "</p>\n",
      "\n"
     ]
    }
   ],
   "source": [
    "# We can see that there's a consistent structure to a listing.\n",
    "# There is a 'time', a 'name', a 'housing' field with size/n_brs, etc.\n",
    "this_appt = apts[30]\n",
    "print(this_appt.prettify())"
   ]
  },
  {
   "cell_type": "code",
   "execution_count": 11,
   "metadata": {
    "collapsed": false
   },
   "outputs": [
    {
     "name": "stdout",
     "output_type": "stream",
     "text": [
      "\n",
      "                    4br -\n",
      "                    4235ft2 -\n",
      "                \n"
     ]
    }
   ],
   "source": [
    "# So now we'll pull out a couple of things we might be interested in:\n",
    "# It looks like \"housing\" contains size information. We'll pull that.\n",
    "# Note that `findAll` returns a list, since there's only one entry in\n",
    "# this HTML, we'll just pull the first item.\n",
    "size = this_appt.findAll(attrs={'class': 'housing'})[0].text\n",
    "print(size)"
   ]
  },
  {
   "cell_type": "markdown",
   "metadata": {},
   "source": [
    "We can query split this into n_bedrooms and the size. However, note that sometimes one of these features might be missing. So we'll use an if statement to try and capture this variability:"
   ]
  },
  {
   "cell_type": "code",
   "execution_count": 12,
   "metadata": {
    "collapsed": true
   },
   "outputs": [],
   "source": [
    "def find_size_and_brs(size):\n",
    "\n",
    "    split = size.split('-')\n",
    " \n",
    "    if len(split) == 3:\n",
    "        n_brs = split[0].replace('br', '')\n",
    "        this_size = split[1].replace('ft2', '')\n",
    "    elif 'br' in split[0]:\n",
    "        # It's the n_bedrooms\n",
    "        n_brs = split[0].replace('br', '')\n",
    "        this_size = np.nan\n",
    "    elif 'ft2' in split[0]:\n",
    "        # It's the size\n",
    "        this_size = split[0].replace('ft2', '')\n",
    "        n_brs = np.nan\n",
    "    return float(this_size), float(n_brs)\n",
    "\n",
    "this_size, n_brs = find_size_and_brs(size)\n",
    "this_time = this_appt.find('time')['datetime']\n",
    "this_time = pd.to_datetime(this_time)\n",
    "this_price = float(this_appt.find('span', {'class': 'result-price'}).text.strip('$'))\n",
    "this_title = this_appt.find('a', attrs={'class': 'result-title hdrlnk'}).text"
   ]
  },
  {
   "cell_type": "code",
   "execution_count": 13,
   "metadata": {
    "collapsed": false
   },
   "outputs": [
    {
     "name": "stdout",
     "output_type": "stream",
     "text": [
      "4235.0\n",
      "4.0\n",
      "2017-08-09 07:40:00\n",
      "2900.0\n",
      "4 Br, 3 Bath Arvada\n"
     ]
    }
   ],
   "source": [
    "# Now we've got the n_bedrooms, size, price, and time of listing\n",
    "print('\\n'.join([str(i) for i in [this_size, n_brs, this_time, this_price, this_title]]))"
   ]
  },
  {
   "cell_type": "markdown",
   "metadata": {},
   "source": [
    "### Querying lots of postings\n",
    "We've made some great headway understanding the query structure, and parsing the results for the key data points we want (size, time, price, title).\n",
    "\n",
    "Now it is time to build a few more functions to parse many listings."
   ]
  },
  {
   "cell_type": "markdown",
   "metadata": {},
   "source": [
    "We'll define a few helper functions to handle edge cases and make sure that we don't get any errors."
   ]
  },
  {
   "cell_type": "code",
   "execution_count": 14,
   "metadata": {
    "collapsed": true
   },
   "outputs": [],
   "source": [
    "def find_prices(results):\n",
    "    prices = []\n",
    "    for rw in results:\n",
    "        price = rw.find('span', {'class': 'result-price'})\n",
    "        if price is not None:\n",
    "            price = float(price.text.strip('$'))\n",
    "        else:\n",
    "            price = np.nan\n",
    "        prices.append(price)\n",
    "    return prices\n",
    "\n",
    "def find_times(results):\n",
    "    times = []\n",
    "    for rw in apts:\n",
    "        if time is not None:\n",
    "            time = time['datetime']\n",
    "            time = pd.to_datetime(time)\n",
    "        else:\n",
    "            time = np.nan\n",
    "        times.append(time)\n",
    "    return times"
   ]
  },
  {
   "cell_type": "markdown",
   "metadata": {},
   "source": [
    "Now we're ready to go. We'll loop through all of our locations, and pull a number of entries for each one. We'll use a pandas dataframe to store everything, because this will be useful for future analysis.\n",
    "\n",
    "Note - Craigslist won't take kindly to you querying their server a bunch of times at once. Make sure not to pull too much data too quickly. Another option is to add a delay to each loop iteration. Otherwise your IP might get banned. **ALWAYS PLAY NICE WHEN SCRAPING**"
   ]
  },
  {
   "cell_type": "code",
   "execution_count": 15,
   "metadata": {
    "collapsed": true
   },
   "outputs": [],
   "source": [
    "# Now loop through all of CL and store the results\n",
    "results = []  # We'll store the data here\n",
    "# Careful with this...too many queries == your IP gets banned temporarily\n",
    "# search_indices = np.arange(0, 2400, 100)\n",
    "\n",
    "search_indices = np.arange(0, 300, 100)\n",
    "\n",
    "\n",
    "for i in search_indices:\n",
    "        url = 'http://denver.craigslist.org/search/apa'\n",
    "        resp = requests.get(url, params={'bedrooms': 1, 's': i})\n",
    "        txt = bs4(resp.text, 'html.parser')\n",
    "        apts = txt.findAll(attrs={'class': \"result-info\"})\n",
    "        \n",
    "        # Find the size of all entries\n",
    "        size_text = [rw.findAll(attrs={'class': 'housing'})[0].text\n",
    "                     for rw in apts]\n",
    "        sizes_brs = [find_size_and_brs(stxt) for stxt in size_text]\n",
    "\n",
    "        sizes, n_brs = zip(*sizes_brs)  # This unzips into 2 vectors\n",
    "     \n",
    "        # Find the title and link\n",
    "        title = [rw.find('a', attrs={'class': 'result-title hdrlnk'}).text\n",
    "                      for rw in apts]\n",
    "        links = [rw.find('a', attrs={'class': 'result-title hdrlnk'})['href']\n",
    "                 for rw in apts]\n",
    "        \n",
    "        # Find the time\n",
    "        time = [pd.to_datetime(rw.find('time')['datetime']) for rw in apts]\n",
    "        price = find_prices(apts)\n",
    "        \n",
    "        # We'll create a dataframe to store all the data\n",
    "        data = np.array([time, price, sizes, n_brs, title, links])\n",
    "        col_names = ['time', 'price', 'size', 'brs', 'title', 'link']\n",
    "        df = pd.DataFrame(data.T, columns=col_names)\n",
    "        df = df.set_index('time')\n",
    "        \n",
    "        # Add the location variable to all entries\n",
    "        #df['loc'] = loc\n",
    "        results.append(df)\n",
    "        \n",
    "# Finally, concatenate all the results\n",
    "results = pd.concat(results, axis=0)\n"
   ]
  },
  {
   "cell_type": "code",
   "execution_count": 16,
   "metadata": {
    "collapsed": true
   },
   "outputs": [],
   "source": [
    "# We'll make sure that the right columns are represented numerically:\n",
    "results[['price', 'size', 'brs']] = results[['price', 'size', 'brs']].apply(pd.to_numeric)"
   ]
  },
  {
   "cell_type": "code",
   "execution_count": 17,
   "metadata": {
    "collapsed": false
   },
   "outputs": [
    {
     "data": {
      "text/html": [
       "<div>\n",
       "<style>\n",
       "    .dataframe thead tr:only-child th {\n",
       "        text-align: right;\n",
       "    }\n",
       "\n",
       "    .dataframe thead th {\n",
       "        text-align: left;\n",
       "    }\n",
       "\n",
       "    .dataframe tbody tr th {\n",
       "        vertical-align: top;\n",
       "    }\n",
       "</style>\n",
       "<table border=\"1\" class=\"dataframe\">\n",
       "  <thead>\n",
       "    <tr style=\"text-align: right;\">\n",
       "      <th></th>\n",
       "      <th>price</th>\n",
       "      <th>size</th>\n",
       "      <th>brs</th>\n",
       "      <th>title</th>\n",
       "      <th>link</th>\n",
       "    </tr>\n",
       "    <tr>\n",
       "      <th>time</th>\n",
       "      <th></th>\n",
       "      <th></th>\n",
       "      <th></th>\n",
       "      <th></th>\n",
       "      <th></th>\n",
       "    </tr>\n",
       "  </thead>\n",
       "  <tbody>\n",
       "    <tr>\n",
       "      <th>2017-08-09 08:45:00</th>\n",
       "      <td>1803.0</td>\n",
       "      <td>1213.0</td>\n",
       "      <td>2.0</td>\n",
       "      <td>Pool and Mountain Views in Select Homes, Court...</td>\n",
       "      <td>/apa/d/pool-and-mountain-views-in/6250253301.html</td>\n",
       "    </tr>\n",
       "    <tr>\n",
       "      <th>2017-08-09 08:44:00</th>\n",
       "      <td>1300.0</td>\n",
       "      <td>1075.0</td>\n",
       "      <td>2.0</td>\n",
       "      <td>2 bed/1 bath basement unit all utilities included</td>\n",
       "      <td>/apa/d/2-bed-1-bath-basement-unit/6256648800.html</td>\n",
       "    </tr>\n",
       "    <tr>\n",
       "      <th>2017-08-09 08:43:00</th>\n",
       "      <td>1099.0</td>\n",
       "      <td>665.0</td>\n",
       "      <td>1.0</td>\n",
       "      <td>Renovated Clubhouse, New Stainless Steel Appli...</td>\n",
       "      <td>/apa/d/renovated-clubhouse-new/6216488683.html</td>\n",
       "    </tr>\n",
       "    <tr>\n",
       "      <th>2017-08-09 08:43:00</th>\n",
       "      <td>1795.0</td>\n",
       "      <td>1245.0</td>\n",
       "      <td>2.0</td>\n",
       "      <td>Near Park Meadows Mall, Attached and Detached ...</td>\n",
       "      <td>/apa/d/near-park-meadows-mall/6256662656.html</td>\n",
       "    </tr>\n",
       "    <tr>\n",
       "      <th>2017-08-09 08:42:00</th>\n",
       "      <td>1990.0</td>\n",
       "      <td>NaN</td>\n",
       "      <td>3.0</td>\n",
       "      <td>Location, Community, Quality Living. It Starts...</td>\n",
       "      <td>/apa/d/location-community-quality/6256662029.html</td>\n",
       "    </tr>\n",
       "  </tbody>\n",
       "</table>\n",
       "</div>"
      ],
      "text/plain": [
       "                      price    size  brs  \\\n",
       "time                                       \n",
       "2017-08-09 08:45:00  1803.0  1213.0  2.0   \n",
       "2017-08-09 08:44:00  1300.0  1075.0  2.0   \n",
       "2017-08-09 08:43:00  1099.0   665.0  1.0   \n",
       "2017-08-09 08:43:00  1795.0  1245.0  2.0   \n",
       "2017-08-09 08:42:00  1990.0     NaN  3.0   \n",
       "\n",
       "                                                                 title  \\\n",
       "time                                                                     \n",
       "2017-08-09 08:45:00  Pool and Mountain Views in Select Homes, Court...   \n",
       "2017-08-09 08:44:00  2 bed/1 bath basement unit all utilities included   \n",
       "2017-08-09 08:43:00  Renovated Clubhouse, New Stainless Steel Appli...   \n",
       "2017-08-09 08:43:00  Near Park Meadows Mall, Attached and Detached ...   \n",
       "2017-08-09 08:42:00  Location, Community, Quality Living. It Starts...   \n",
       "\n",
       "                                                                  link  \n",
       "time                                                                    \n",
       "2017-08-09 08:45:00  /apa/d/pool-and-mountain-views-in/6250253301.html  \n",
       "2017-08-09 08:44:00  /apa/d/2-bed-1-bath-basement-unit/6256648800.html  \n",
       "2017-08-09 08:43:00     /apa/d/renovated-clubhouse-new/6216488683.html  \n",
       "2017-08-09 08:43:00      /apa/d/near-park-meadows-mall/6256662656.html  \n",
       "2017-08-09 08:42:00  /apa/d/location-community-quality/6256662029.html  "
      ]
     },
     "execution_count": 17,
     "metadata": {},
     "output_type": "execute_result"
    }
   ],
   "source": [
    "results.head()"
   ]
  },
  {
   "cell_type": "code",
   "execution_count": 18,
   "metadata": {
    "collapsed": false
   },
   "outputs": [
    {
     "data": {
      "text/plain": [
       "<matplotlib.text.Text at 0x11222c250>"
      ]
     },
     "execution_count": 18,
     "metadata": {},
     "output_type": "execute_result"
    },
    {
     "data": {
      "image/png": "[encoded data removed]",
      "text/plain": [
       "<matplotlib.figure.Figure at 0x110ab5690>"
      ]
     },
     "metadata": {},
     "output_type": "display_data"
    }
   ],
   "source": [
    "ax = results.hist('price', bins=np.arange(0, 5000, 100))[0, 0]\n",
    "ax.set_title('Price Distribution of Apartments', fontsize=20)\n",
    "ax.set_xlabel('Price', fontsize=18)\n",
    "ax.set_ylabel('Count', fontsize=18)"
   ]
  },
  {
   "cell_type": "code",
   "execution_count": 19,
   "metadata": {
    "collapsed": true
   },
   "outputs": [],
   "source": [
    "# Finally, we can save this data to a CSV to play around with it later.\n",
    "# We'll have to remove some annoying characters first:\n",
    "import string\n",
    "use_chars = string.ascii_letters +\\\n",
    "    ''.join([str(i) for i in range(10)]) +\\\n",
    "    ' /\\.'\n",
    "results['title'] = results['title'].apply(\n",
    "    lambda a: ''.join([i for i in a if i in use_chars]))\n",
    "\n",
    "results.to_csv('./data/craigslist_results.csv')"
   ]
  },
  {
   "cell_type": "markdown",
   "metadata": {},
   "source": [
    "# RECAP"
   ]
  },
  {
   "cell_type": "markdown",
   "metadata": {},
   "source": [
    "What did we just do?\n",
    "\n",
    "* We defined the ability to query a website using a custom URL. This is isually the same in structure for a website, but the parameter names will be different.\n",
    "* We sent a *get* request to Craigslist using the *requests* Python module.\n",
    "* We parsed the response using *BeautifulSoup4*.\n",
    "* We then looped through a bunch of apartment listings pulled some relevant data, and comibned it all into a cleaned and usable dataframe with Python's *pandas*.\n",
    "\n",
    "I'll be condensing this walkthrough into a single scipt (.py) file. I'll also be brainstorming how to best capture this data from a time series perspective, hopefully running future analysis of Denver's rental market."
   ]
  },
  {
   "cell_type": "markdown",
   "metadata": {},
   "source": [
    "### BONUS - auto-emailing yourself with notifications"
   ]
  },
  {
   "cell_type": "markdown",
   "metadata": {},
   "source": [
    "Yes, we can use this kind of process to make a bot that scrapes craigslist periodically. This is actually quite simple, as it basically involves pulling the top listings from craigslist, checking this against an \"old\" list, and detecting if there's anything new that has popped up since the last time you checked.\n",
    "\n",
    "Here's a simple script that will get the job done. Once again, don't pull too much data at once, and don't query Craigslist too frequently, or you're gonna get banned."
   ]
  },
  {
   "cell_type": "code",
   "execution_count": 20,
   "metadata": {
    "collapsed": true
   },
   "outputs": [],
   "source": [
    "# We'll use the gmail module (there really is a module for everything in python)\n",
    "import gmail\n",
    "import time\n",
    "import email"
   ]
  },
  {
   "cell_type": "code",
   "execution_count": null,
   "metadata": {
    "collapsed": true
   },
   "outputs": [],
   "source": [
    "gm = gmail.GMail('username', 'password')\n",
    "gm.connect()"
   ]
  },
  {
   "cell_type": "markdown",
   "metadata": {},
   "source": [
    "Note: You'll need to reconfigure your Gmail account settings to allow access by less secure apps, or you'll need to setup an application-specific password rather than using your account-password. Similarly, you could create a dummy Gmail account.\n",
    "\n",
    "Read more:\n",
    "\n",
    "https://support.google.com/mail/?p=InvalidSecondFactor\n",
    "\n",
    "https://security.google.com/settings/security/apppasswords"
   ]
  },
  {
   "cell_type": "code",
   "execution_count": 21,
   "metadata": {
    "collapsed": true
   },
   "outputs": [],
   "source": [
    "# Define our URL and a query we want to post\n",
    "base_url = 'http://denver.craigslist.org'\n",
    "url = base_url + '/search/roo?query=cap+hill'\n",
    "\n",
    "# This will remove weird characters that people put in titles like ****!***!!!\n",
    "use_chars = string.ascii_letters + ''.join([str(i) for i in range(10)]) + ' '"
   ]
  },
  {
   "cell_type": "code",
   "execution_count": 22,
   "metadata": {
    "collapsed": false
   },
   "outputs": [
    {
     "name": "stdout",
     "output_type": "stream",
     "text": [
      "http://denver.craigslist.org/search/roo?query=cap+hill\n"
     ]
    }
   ],
   "source": [
    "print url"
   ]
  },
  {
   "cell_type": "code",
   "execution_count": 23,
   "metadata": {
    "collapsed": false
   },
   "outputs": [
    {
     "name": "stdout",
     "output_type": "stream",
     "text": [
      "Found new listing\n",
      "Found new listing\n",
      "Found new listing\n",
      "Found new listing\n",
      "Found new listing\n",
      "Found new listing\n",
      "Found new listing\n",
      "Found new listing\n",
      "Found new listing\n",
      "Found new listing\n",
      "Found new listing\n",
      "Found new listing\n",
      "Found new listing\n",
      "Found new listing\n",
      "Found new listing\n",
      "Found new listing\n",
      "Found new listing\n",
      "Found new listing\n",
      "Found new listing\n",
      "Found new listing\n",
      "Found new listing\n",
      "Found new listing\n",
      "Found new listing\n",
      "Found new listing\n",
      "Found new listing\n",
      "Found new listing\n",
      "Found new listing\n",
      "Found new listing\n",
      "Found new listing\n",
      "Found new listing\n",
      "Found new listing\n",
      "Found new listing\n",
      "Found new listing\n",
      "Found new listing\n",
      "Found new listing\n",
      "Found new listing\n",
      "Found new listing\n",
      "Found new listing\n",
      "Found new listing\n",
      "Found new listing\n",
      "Found new listing\n",
      "Found new listing\n",
      "Found new listing\n",
      "Found new listing\n",
      "Found new listing\n",
      "Found new listing\n",
      "Found new listing\n",
      "Found new listing\n",
      "Found new listing\n",
      "Found new listing\n"
     ]
    }
   ],
   "source": [
    "#SANDBOX\n",
    "\n",
    "link_list = []  # We'll store the data here\n",
    "link_list_send = []  # This is a list of links to be sent\n",
    "send_list = []  # This is what will actually be sent in the email\n",
    "\n",
    "resp = requests.get(url)\n",
    "txt = bs4(resp.text, 'html.parser')\n",
    "apts = txt.findAll(attrs={'class': \"result-info\"})\n",
    "\n",
    "# We're just going to pull the title and link\n",
    "for apt in apts:\n",
    "    title = apt.find_all('a', attrs={'class': 'result-title hdrlnk'})[0]\n",
    "    name = ''.join([i for i in title.text if i in use_chars])\n",
    "    link = title.attrs['href']\n",
    "    if link not in link_list and link not in link_list_send:\n",
    "        print('Found new listing')\n",
    "        link_list_send.append(link)\n",
    "        send_list.append(str(name) + '  -  ' + base_url+link)"
   ]
  },
  {
   "cell_type": "code",
   "execution_count": 24,
   "metadata": {
    "collapsed": false
   },
   "outputs": [
    {
     "name": "stdout",
     "output_type": "stream",
     "text": [
      "[u'/roo/d/master-bedroom-available-in/6252891210.html', u'/roo/d/2-bedrooms-available-in-cap/6244607325.html', u'/roo/d/room-available-in-cap-hill/6224095429.html', u'/roo/d/spacious-bedroom-available-in/6249185296.html', u'/roo/d/private-bed-and-bath-in-cap/6237469650.html', u'/roo/d/1bdrm-in-renovated-cap-hill/6246738011.html', u'/roo/d/amazing-location-1bdrm-in/6229263531.html', u'/roo/d/roommate-uptown-cap-hill/6213416199.html', u'/roo/d/cap-hill-room-for-rent/6236887925.html', u'/roo/d/2-bed-2-bath-apartment-gov/6233941247.html', u'/roo/d/1-br-in-2br-apartment-in-cap/6207755782.html', u'/roo/d/room-in-2br-apt-cap-hill/6232993956.html', u'/roo/d/2-br-1-kit-1-fb-basement/6196193120.html', u'/roo/d/cap-hill-one-room-for-rent/6219832305.html', u'/roo/d/450-looking-for-roommate-in/6178076581.html', u'/roo/d/top-floor-mansion-lrg-room/6256550665.html', u'/roo/d/unique-butlers-quarters/6245897504.html', u'/roo/d/410-nice-room-available-in-2/6244692946.html', u'/roo/d/master-bedroom-for-rent-in/6241979418.html', u'/roo/d/1-bedroom-need-roomie/6247191478.html', u'/roo/d/room-in-denver-bungalow/6252436842.html', u'/roo/d/roommate-needed-city-park/6252445545.html', u'/roo/d/cozy-denver-bungalow-seeks/6252440830.html', u'/roo/d/room-for-rent-august-move-in/6241394951.html', u'/roo/d/410-nice-room-available-in-2/6250680500.html', u'/roo/d/room-for-rent-sept-1/6245514169.html', u'/roo/d/room-for-rent-in-downtown/6245201959.html', u'/roo/d/cap-hill-apt-share-for-female/6208985246.html', u'/roo/d/looking-for-responsible/6243945713.html', u'/roo/d/unique-butlers-quarters/6203132296.html', u'/roo/d/roommate-wanted-cap-hill/6207033147.html', u'/roo/d/looking-for-someone-to/6232932258.html', u'/roo/d/looking-for-roommate-in-the/6174135919.html', u'/roo/d/cap-hill-roommate-wanted/6203715245.html', u'/roo/d/looking-to-move-in-new-apt-a/6228206307.html', u'/roo/d/serious-inquiry-only-bedroom/6251622802.html', u'/roo/d/seeking-roommate-1150-one/6217655394.html', u'/roo/d/cheap-apartment-room-in-cap/6199951049.html', u'/roo/d/1-room-1-month-available-cap/6199761027.html', u'/roo/d/1-bed-bath-looking-4-chill/6236138839.html', u'/roo/d/looking-for-3rd-roommate-in/6187435320.html', u'/roo/d/1-bed-1-bath-in-cap-hill/6173678418.html', u'/roo/d/iso-room-for-rent-or/6206641817.html', u'/roo/d/seeking-roommate/6256172262.html', u'/roo/d/2bed-1bath-1400sqft-house/6241737734.html', u'/roo/d/room-in-secure-building/6241704407.html', u'/roo/d/looking-for-new-roommate-near/6234621902.html', u'/roo/d/wanted-roomate-to-share-cap/6192810272.html', u'/roo/d/roommate-wanted-in-modern-cap/6192738473.html', u'https://fortcollins.craigslist.org/roo/d/room-available-8-1-old/6220553215.html']\n"
     ]
    }
   ],
   "source": [
    "print link_list_send"
   ]
  },
  {
   "cell_type": "code",
   "execution_count": 26,
   "metadata": {
    "collapsed": false
   },
   "outputs": [
    {
     "name": "stdout",
     "output_type": "stream",
     "text": [
      "[u'Master bedroom available in awesome Cap Hill apartment  -  http://denver.craigslist.org/roo/d/master-bedroom-available-in/6252891210.html', u'2 bedrooms available in Cap Hill duplex  -  http://denver.craigslist.org/roo/d/2-bedrooms-available-in-cap/6244607325.html', u'Room Available in Cap Hill House 900  -  http://denver.craigslist.org/roo/d/room-available-in-cap-hill/6224095429.html', u'Spacious Bedroom Available in Cap Hill Home  -  http://denver.craigslist.org/roo/d/spacious-bedroom-available-in/6249185296.html', u'Private bed and bath in Cap Hill  available ASAP  -  http://denver.craigslist.org/roo/d/private-bed-and-bath-in-cap/6237469650.html', u'1bdrm in renovated Cap Hill condo avail Sept Amazing location  -  http://denver.craigslist.org/roo/d/1bdrm-in-renovated-cap-hill/6246738011.html', u'Amazing location 1bdrm in renovated Cap Hill condo avail Sept  -  http://denver.craigslist.org/roo/d/amazing-location-1bdrm-in/6229263531.html', u'Roommate uptowncap hill  -  http://denver.craigslist.org/roo/d/roommate-uptown-cap-hill/6213416199.html', u'Cap Hill room for rent  -  http://denver.craigslist.org/roo/d/cap-hill-room-for-rent/6236887925.html', u'2 Bed  2 Bath Apartment  Gov Park  S Cap Hill  -  http://denver.craigslist.org/roo/d/2-bed-2-bath-apartment-gov/6233941247.html', u'1 BR in 2BR Apartment in Cap Hill Available for Rent  -  http://denver.craigslist.org/roo/d/1-br-in-2br-apartment-in-cap/6207755782.html', u'Room in 2BR apt CAP HILL  avail early Sept  -  http://denver.craigslist.org/roo/d/room-in-2br-apt-cap-hill/6232993956.html', u'2 BR 1 KIT 1 FB Basement apartment in Cap Hill or houshold help  -  http://denver.craigslist.org/roo/d/2-br-1-kit-1-fb-basement/6196193120.html', u'Cap Hill one room for rent basement apartment  -  http://denver.craigslist.org/roo/d/cap-hill-one-room-for-rent/6219832305.html', u'450  LOOKING FOR A ROOMMATE IN THE CAP HILL NEIGHBORHOOD  -  http://denver.craigslist.org/roo/d/450-looking-for-roommate-in/6178076581.html', u'Top floor mansion lrg room furnishedAvailable in September  -  http://denver.craigslist.org/roo/d/top-floor-mansion-lrg-room/6256550665.html', u'Unique Butlers Quarters Apartment Utilities included  -  http://denver.craigslist.org/roo/d/unique-butlers-quarters/6245897504.html', u'410   NICE ROOM AVAILABLE IN 2 BEDROOM APARTMENT  -  http://denver.craigslist.org/roo/d/410-nice-room-available-in-2/6244692946.html', u'Master bedroom for rent in charming five points 3br townhouse  Sept  -  http://denver.craigslist.org/roo/d/master-bedroom-for-rent-in/6241979418.html', u'1 bedroom need Roomie  -  http://denver.craigslist.org/roo/d/1-bedroom-need-roomie/6247191478.html', u'Room in Denver Bungalow available Immediately  -  http://denver.craigslist.org/roo/d/room-in-denver-bungalow/6252436842.html', u'Roommate Needed City Park  -  http://denver.craigslist.org/roo/d/roommate-needed-city-park/6252445545.html', u'Cozy Denver Bungalow Seeks Roommate  -  http://denver.craigslist.org/roo/d/cozy-denver-bungalow-seeks/6252440830.html', u'Room for Rent August move in  -  http://denver.craigslist.org/roo/d/room-for-rent-august-move-in/6241394951.html', u'410  NICE ROOM AVAILABLE IN 2 BEDROOM APARTMENT  -  http://denver.craigslist.org/roo/d/410-nice-room-available-in-2/6250680500.html', u'Room for Rent Sept 1  -  http://denver.craigslist.org/roo/d/room-for-rent-sept-1/6245514169.html', u'Room for rent in Downtown Denver Move in end of August  -  http://denver.craigslist.org/roo/d/room-for-rent-in-downtown/6245201959.html', u'Cap hill apt share for female  -  http://denver.craigslist.org/roo/d/cap-hill-apt-share-for-female/6208985246.html', u'Looking for Responsible roommate  -  http://denver.craigslist.org/roo/d/looking-for-responsible/6243945713.html', u'Unique Butlers Quarters Apartment Utilities included  -  http://denver.craigslist.org/roo/d/unique-butlers-quarters/6203132296.html', u'Roommate wanted Cap Hill  -  http://denver.craigslist.org/roo/d/roommate-wanted-cap-hill/6207033147.html', u'Looking for someone to replace me on lease  -  http://denver.craigslist.org/roo/d/looking-for-someone-to/6232932258.html', u'Looking for a roommate in the cap hill neighborhood  -  http://denver.craigslist.org/roo/d/looking-for-roommate-in-the/6174135919.html', u'Cap hill roommate wanted  -  http://denver.craigslist.org/roo/d/cap-hill-roommate-wanted/6203715245.html', u'Looking to move in a new apt w a chill young professional Female  -  http://denver.craigslist.org/roo/d/looking-to-move-in-new-apt-a/6228206307.html', u'SERIOUS INQUIRY ONLYBEDROOM  PRIVATE BATH IN 2BDRM APT  -  http://denver.craigslist.org/roo/d/serious-inquiry-only-bedroom/6251622802.html', u'SEEKING ROOMMATE 1150  One Bedroom For Rent In 2 Bed 2 Bath  -  http://denver.craigslist.org/roo/d/seeking-roommate-1150-one/6217655394.html', u'Cheap Apartment room in Cap hill  -  http://denver.craigslist.org/roo/d/cheap-apartment-room-in-cap/6199951049.html', u'1 room 1 month available Cap Hill  -  http://denver.craigslist.org/roo/d/1-room-1-month-available-cap/6199761027.html', u'1 BEDBATH  LOOKING 4 A CHILL DOG LOVING ROOMIE  -  http://denver.craigslist.org/roo/d/1-bed-bath-looking-4-chill/6236138839.html', u'Looking for 3rd roommate in Denver  -  http://denver.craigslist.org/roo/d/looking-for-3rd-roommate-in/6187435320.html', u'1 bed1 bath in Cap Hill apartment  immediate availability  -  http://denver.craigslist.org/roo/d/1-bed-1-bath-in-cap-hill/6173678418.html', u'ISO Room for Rent OR Roommates for August 1 Movein  -  http://denver.craigslist.org/roo/d/iso-room-for-rent-or/6206641817.html', u'seeking roommate  -  http://denver.craigslist.org/roo/d/seeking-roommate/6256172262.html', u'2bed 1bath 1400sqft house  -  http://denver.craigslist.org/roo/d/2bed-1bath-1400sqft-house/6241737734.html', u'Room in Secure Building  -  http://denver.craigslist.org/roo/d/room-in-secure-building/6241704407.html', u'Looking for a new roommate near Cheeseman Park  -  http://denver.craigslist.org/roo/d/looking-for-new-roommate-near/6234621902.html', u'WANTED Roomate to Share Cap Hill Condo  -  http://denver.craigslist.org/roo/d/wanted-roomate-to-share-cap/6192810272.html', u'Roommate wanted in modern Cap Hill condo  Garage Parking included  -  http://denver.craigslist.org/roo/d/roommate-wanted-in-modern-cap/6192738473.html', u'Room Available 81  Old TownCap Hills Area Utilities Included  -  http://denver.craigslist.orghttps://fortcollins.craigslist.org/roo/d/room-available-8-1-old/6220553215.html']\n"
     ]
    }
   ],
   "source": [
    "print send_list"
   ]
  },
  {
   "cell_type": "markdown",
   "metadata": {},
   "source": [
    "We're going to build a `while True:` loop (eventually the below code chunk is stored as an executable `.py` script). Read more about `while True:` logic [here](https://wiki.python.org/moin/WhileLoop)\n",
    "\n",
    "We're just simply going to let this script run 24/7 in the background, thus allowing the cache to go uniterrupted and allowing the bot to perform it's simple job:\n",
    "\n",
    "**Email whenever a new listing appears with our search criteria.**\n",
    "\n",
    "Again, play nice with CL, your IP can get a ban if you scrape too much. You can alter the `sleep_amt` intervals and the end of the loop below to play nicely and stay on top of things."
   ]
  },
  {
   "cell_type": "code",
   "execution_count": null,
   "metadata": {
    "collapsed": true
   },
   "outputs": [],
   "source": [
    "# Careful with this...too many queries == your IP gets banned temporarily\n",
    "\n",
    "link_list = []  # We'll store the data here\n",
    "link_list_send = []  # This is a list of links to be sent\n",
    "send_list = []  # This is what will actually be sent in the email\n",
    "\n",
    "# We're just going to pull the title and link\n",
    "while True:\n",
    "    resp = requests.get(url)\n",
    "    txt = bs4(resp.text, 'html.parser')\n",
    "    apts = txt.findAll(attrs={'class': \"result-info\"})\n",
    "    # We're just going to pull the title and link\n",
    "    for apt in apts:\n",
    "        title = apt.find_all('a', attrs={'class': 'result-title hdrlnk'})[0]\n",
    "        name = ''.join([i for i in title.text if i in use_chars])\n",
    "        link = title.attrs['href']\n",
    "        if link not in link_list and link not in link_list_send:\n",
    "            print('Found new listing')\n",
    "            link_list_send.append(link)\n",
    "            send_list.append(str(name) + '  -  ' + base_url+link)\n",
    "\n",
    "        # Flush the cache if we've found new entries\n",
    "        if len(link_list_send) > 0:\n",
    "            print('Sending mail!')\n",
    "            msg = '\\n'.join(send_list)\n",
    "            m = email.message.Message()\n",
    "            m.set_payload(msg)\n",
    "            gm.send(m, ['beilman.mich@gmail.com'])\n",
    "            link_list += link_list_send\n",
    "            link_list_send = []\n",
    "            send_list = []\n",
    "\n",
    "        # Sleep a bit so CL doesn't ban us\n",
    "        sleep_amt = np.random.randint(60, 120)\n",
    "        time.sleep(sleep_amt)"
   ]
  },
  {
   "cell_type": "markdown",
   "metadata": {},
   "source": [
    "And there you have it, a simple Craigslist Bot. [Automate the boring stuff](https://automatetheboringstuff.com/)"
   ]
  },
  {
   "cell_type": "markdown",
   "metadata": {},
   "source": [
    "Note: the first time you run your Bot you may receive a lot of emails (if you have a broad search criteria like mine), let the Bot run for a few days to really see how well it does!"
   ]
  },
  {
   "cell_type": "code",
   "execution_count": null,
   "metadata": {
    "collapsed": true
   },
   "outputs": [],
   "source": []
  }
 ],
 "metadata": {
  "kernelspec": {
   "display_name": "Python 2",
   "language": "python",
   "name": "python2"
  },
  "language_info": {
   "codemirror_mode": {
    "name": "ipython",
    "version": 2
   },
   "file_extension": ".py",
   "mimetype": "text/x-python",
   "name": "python",
   "nbconvert_exporter": "python",
   "pygments_lexer": "ipython2",
   "version": "2.7.13"
  }
 },
 "nbformat": 4,
 "nbformat_minor": 2
}
